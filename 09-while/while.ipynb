{
 "cells": [
  {
   "cell_type": "code",
   "execution_count": 4,
   "metadata": {
    "collapsed": false
   },
   "outputs": [
    {
     "name": "stdout",
     "output_type": "stream",
     "text": [
      "python é interessante\n",
      "O que você escreveu foi python é interessante\n",
      "enquanto for diferente\n",
      "O que você escreveu foi enquanto for diferente\n",
      "de \n",
      "O que você escreveu foi de \n",
      "sair\n"
     ]
    }
   ],
   "source": [
    "x = 10 \n",
    "while True:\n",
    "    op = input()\n",
    "    if op.lower() == 'sair':\n",
    "        break\n",
    "    else:\n",
    "        print(\"O que você escreveu foi {}\".format(op))"
   ]
  },
  {
   "cell_type": "code",
   "execution_count": null,
   "metadata": {
    "collapsed": true
   },
   "outputs": [],
   "source": []
  }
 ],
 "metadata": {
  "anaconda-cloud": {},
  "kernelspec": {
   "display_name": "Python [conda root]",
   "language": "python",
   "name": "conda-root-py"
  },
  "language_info": {
   "codemirror_mode": {
    "name": "ipython",
    "version": 3
   },
   "file_extension": ".py",
   "mimetype": "text/x-python",
   "name": "python",
   "nbconvert_exporter": "python",
   "pygments_lexer": "ipython3",
   "version": "3.5.2"
  }
 },
 "nbformat": 4,
 "nbformat_minor": 1
}
