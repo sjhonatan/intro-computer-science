{
 "cells": [
  {
   "cell_type": "code",
   "execution_count": 5,
   "metadata": {
    "collapsed": false
   },
   "outputs": [],
   "source": [
    "class arquivos():\n",
    "    \n",
    "    def escreverArquivo(self,path,nome,dados):\n",
    "        caminhoCompleto = path + '/' + nome\n",
    "        with open(caminhoCompleto, 'w') as f:\n",
    "            if type(dados) == list:\n",
    "                for cadaLinha in dados:\n",
    "                    f.write(cadaLinha)\n",
    "                    f.write('\\n')\n",
    "            else:\n",
    "                f.write(dados)\n",
    "                f.write('\\n')\n",
    "    \n",
    "    def lerArquivo(self,path,nome):\n",
    "        caminhoCompleto = path + '/'+ nome\n",
    "        with open(caminhoCompleto,'r') as f:\n",
    "            dados = f.read().splitlines()\n"
   ]
  },
  {
   "cell_type": "code",
   "execution_count": 6,
   "metadata": {
    "collapsed": true
   },
   "outputs": [],
   "source": [
    "class Teste(arquivos):\n",
    "    \n",
    "    def gerarDados(self):\n",
    "        x = ['python','1','2','4']\n",
    "        self.escreverArquivo('./','teste.txt',x)"
   ]
  },
  {
   "cell_type": "code",
   "execution_count": 7,
   "metadata": {
    "collapsed": true
   },
   "outputs": [],
   "source": [
    "teste = Teste()"
   ]
  },
  {
   "cell_type": "code",
   "execution_count": 8,
   "metadata": {
    "collapsed": true
   },
   "outputs": [],
   "source": [
    "teste.gerarDados()"
   ]
  },
  {
   "cell_type": "code",
   "execution_count": null,
   "metadata": {
    "collapsed": true
   },
   "outputs": [],
   "source": []
  }
 ],
 "metadata": {
  "anaconda-cloud": {},
  "kernelspec": {
   "display_name": "Python [conda root]",
   "language": "python",
   "name": "conda-root-py"
  },
  "language_info": {
   "codemirror_mode": {
    "name": "ipython",
    "version": 3
   },
   "file_extension": ".py",
   "mimetype": "text/x-python",
   "name": "python",
   "nbconvert_exporter": "python",
   "pygments_lexer": "ipython3",
   "version": "3.5.2"
  }
 },
 "nbformat": 4,
 "nbformat_minor": 1
}
