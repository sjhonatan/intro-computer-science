{
 "cells": [
  {
   "cell_type": "markdown",
   "metadata": {},
   "source": [
    "# Playlist no youtube\n",
    "\n",
    "https://www.youtube.com/playlist?list=PLvu-cXEstYRPZXyug9IqTJq4JtdBxXgeS"
   ]
  },
  {
   "cell_type": "code",
   "execution_count": 17,
   "metadata": {
    "collapsed": true
   },
   "outputs": [],
   "source": [
    "listaNomes = ['python', 'c++','java','fortran']"
   ]
  },
  {
   "cell_type": "code",
   "execution_count": 18,
   "metadata": {
    "collapsed": false
   },
   "outputs": [
    {
     "name": "stdout",
     "output_type": "stream",
     "text": [
      "Numeros de vogais em python é : 1\n",
      "Numeros de vogais em c++ é : 0\n",
      "Numeros de vogais em java é : 2\n",
      "Numeros de vogais em fortran é : 2\n"
     ]
    }
   ],
   "source": [
    "vogais = ['a','e','i', 'o', 'u']\n",
    "nv = 0\n",
    "for nomes in listaNomes:\n",
    "    for letra in nomes:\n",
    "        if letra in vogais:\n",
    "            nv += 1\n",
    "    print('Numeros de vogais em {} é : {}'.format(nomes,nv))\n",
    "    nv = 0"
   ]
  },
  {
   "cell_type": "code",
   "execution_count": 24,
   "metadata": {
    "collapsed": false
   },
   "outputs": [
    {
     "data": {
      "text/plain": [
       "['python', 'c++', 'java', 'fortran']"
      ]
     },
     "execution_count": 24,
     "metadata": {},
     "output_type": "execute_result"
    }
   ],
   "source": [
    "novosNomes = [nomes for nomes in listaNomes]"
   ]
  },
  {
   "cell_type": "code",
   "execution_count": null,
   "metadata": {
    "collapsed": true
   },
   "outputs": [],
   "source": []
  }
 ],
 "metadata": {
  "anaconda-cloud": {},
  "kernelspec": {
   "display_name": "Python [conda root]",
   "language": "python",
   "name": "conda-root-py"
  },
  "language_info": {
   "codemirror_mode": {
    "name": "ipython",
    "version": 3
   },
   "file_extension": ".py",
   "mimetype": "text/x-python",
   "name": "python",
   "nbconvert_exporter": "python",
   "pygments_lexer": "ipython3",
   "version": "3.5.2"
  }
 },
 "nbformat": 4,
 "nbformat_minor": 1
}
