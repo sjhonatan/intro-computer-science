{
 "cells": [
  {
   "cell_type": "code",
   "execution_count": 2,
   "metadata": {
    "collapsed": false
   },
   "outputs": [],
   "source": [
    "import numpy as np\n",
    "x = np.arange(9)"
   ]
  },
  {
   "cell_type": "code",
   "execution_count": 3,
   "metadata": {
    "collapsed": false
   },
   "outputs": [
    {
     "data": {
      "text/plain": [
       "array([0, 1, 2, 3, 4, 5, 6, 7, 8])"
      ]
     },
     "execution_count": 3,
     "metadata": {},
     "output_type": "execute_result"
    }
   ],
   "source": [
    "x"
   ]
  },
  {
   "cell_type": "code",
   "execution_count": 4,
   "metadata": {
    "collapsed": false
   },
   "outputs": [
    {
     "data": {
      "text/plain": [
       "9"
      ]
     },
     "execution_count": 4,
     "metadata": {},
     "output_type": "execute_result"
    }
   ],
   "source": [
    "x.size"
   ]
  },
  {
   "cell_type": "code",
   "execution_count": 14,
   "metadata": {
    "collapsed": false
   },
   "outputs": [
    {
     "name": "stdout",
     "output_type": "stream",
     "text": [
      "0\n",
      "haha\n",
      "1\n",
      "haha\n",
      "2\n",
      "haha\n",
      "3\n",
      "haha\n",
      "4\n",
      "haha\n",
      "5\n",
      "haha\n",
      "6\n",
      "haha\n",
      "7\n",
      "haha\n",
      "8\n",
      "haha\n",
      "index 9 is out of bounds for axis 0 with size 9\n",
      "haha\n",
      "index 10 is out of bounds for axis 0 with size 9\n",
      "haha\n",
      "index 11 is out of bounds for axis 0 with size 9\n",
      "haha\n",
      "index 12 is out of bounds for axis 0 with size 9\n",
      "haha\n",
      "index 13 is out of bounds for axis 0 with size 9\n",
      "haha\n",
      "index 14 is out of bounds for axis 0 with size 9\n",
      "haha\n"
     ]
    }
   ],
   "source": [
    "for i in range(15):\n",
    "    try:\n",
    "        print(x[i])\n",
    "    except Exception as e:\n",
    "        print(e)\n",
    "    print('haha')"
   ]
  },
  {
   "cell_type": "code",
   "execution_count": null,
   "metadata": {
    "collapsed": true
   },
   "outputs": [],
   "source": []
  }
 ],
 "metadata": {
  "anaconda-cloud": {},
  "kernelspec": {
   "display_name": "Python [conda root]",
   "language": "python",
   "name": "conda-root-py"
  },
  "language_info": {
   "codemirror_mode": {
    "name": "ipython",
    "version": 3
   },
   "file_extension": ".py",
   "mimetype": "text/x-python",
   "name": "python",
   "nbconvert_exporter": "python",
   "pygments_lexer": "ipython3",
   "version": "3.5.2"
  }
 },
 "nbformat": 4,
 "nbformat_minor": 1
}
