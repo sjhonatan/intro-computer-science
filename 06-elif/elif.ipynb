{
 "cells": [
  {
   "cell_type": "code",
   "execution_count": 45,
   "metadata": {
    "collapsed": false
   },
   "outputs": [
    {
     "name": "stdout",
     "output_type": "stream",
     "text": [
      "Escolha uma vogal :E\n"
     ]
    }
   ],
   "source": [
    "opcao = input('Escolha uma vogal :')"
   ]
  },
  {
   "cell_type": "code",
   "execution_count": 46,
   "metadata": {
    "collapsed": false
   },
   "outputs": [],
   "source": [
    "opcao = opcao.lower()"
   ]
  },
  {
   "cell_type": "code",
   "execution_count": 48,
   "metadata": {
    "collapsed": false
   },
   "outputs": [
    {
     "name": "stdout",
     "output_type": "stream",
     "text": [
      "você escolheu e\n"
     ]
    }
   ],
   "source": [
    "if opcao == 'a':\n",
    "    print('A vogal que você escolheu foi', opcao)\n",
    "elif opcao == 'e':\n",
    "    print('você escolheu', opcao)\n",
    "elif opcao == 'i':\n",
    "    pass\n",
    "elif opcao == 'o':\n",
    "    pass\n",
    "elif opcao == 'u':\n",
    "    pass\n",
    "else: \n",
    "    print('haha')"
   ]
  },
  {
   "cell_type": "code",
   "execution_count": null,
   "metadata": {
    "collapsed": true
   },
   "outputs": [],
   "source": []
  }
 ],
 "metadata": {
  "anaconda-cloud": {},
  "kernelspec": {
   "display_name": "Python [conda root]",
   "language": "python",
   "name": "conda-root-py"
  },
  "language_info": {
   "codemirror_mode": {
    "name": "ipython",
    "version": 3
   },
   "file_extension": ".py",
   "mimetype": "text/x-python",
   "name": "python",
   "nbconvert_exporter": "python",
   "pygments_lexer": "ipython3",
   "version": "3.5.2"
  }
 },
 "nbformat": 4,
 "nbformat_minor": 1
}
